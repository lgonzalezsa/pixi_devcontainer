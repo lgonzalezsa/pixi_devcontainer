{
 "cells": [
  {
   "cell_type": "code",
   "execution_count": 1,
   "id": "8f6823c1",
   "metadata": {
    "execution": {
     "iopub.execute_input": "2024-09-02T22:56:22.240408Z",
     "iopub.status.busy": "2024-09-02T22:56:22.239981Z",
     "iopub.status.idle": "2024-09-02T22:56:22.261476Z",
     "shell.execute_reply": "2024-09-02T22:56:22.260709Z"
    },
    "papermill": {
     "duration": 0.02664,
     "end_time": "2024-09-02T22:56:22.263918",
     "exception": false,
     "start_time": "2024-09-02T22:56:22.237278",
     "status": "completed"
    },
    "tags": []
   },
   "outputs": [],
   "source": [
    "import loguru\n",
    "from loguru import logger"
   ]
  },
  {
   "cell_type": "code",
   "execution_count": 2,
   "id": "07b1603f",
   "metadata": {
    "execution": {
     "iopub.execute_input": "2024-09-02T22:56:22.274444Z",
     "iopub.status.busy": "2024-09-02T22:56:22.274089Z",
     "iopub.status.idle": "2024-09-02T22:56:22.278522Z",
     "shell.execute_reply": "2024-09-02T22:56:22.277804Z"
    },
    "papermill": {
     "duration": 0.014814,
     "end_time": "2024-09-02T22:56:22.280118",
     "exception": false,
     "start_time": "2024-09-02T22:56:22.265304",
     "status": "completed"
    },
    "tags": []
   },
   "outputs": [
    {
     "name": "stderr",
     "output_type": "stream",
     "text": [
      "\u001b[32m2024-09-02 22:56:22.275\u001b[0m | \u001b[1mINFO    \u001b[0m | \u001b[36m__main__\u001b[0m:\u001b[36m<module>\u001b[0m:\u001b[36m1\u001b[0m - \u001b[1mHello, World!\u001b[0m\n"
     ]
    }
   ],
   "source": [
    "logger.info(\"Hello, World!\")"
   ]
  },
  {
   "cell_type": "code",
   "execution_count": null,
   "id": "b4006deb",
   "metadata": {
    "papermill": {
     "duration": 0.001519,
     "end_time": "2024-09-02T22:56:22.283019",
     "exception": false,
     "start_time": "2024-09-02T22:56:22.281500",
     "status": "completed"
    },
    "tags": []
   },
   "outputs": [],
   "source": []
  }
 ],
 "metadata": {
  "kernelspec": {
   "display_name": "default",
   "language": "python",
   "name": "python3"
  },
  "language_info": {
   "codemirror_mode": {
    "name": "ipython",
    "version": 3
   },
   "file_extension": ".py",
   "mimetype": "text/x-python",
   "name": "python",
   "nbconvert_exporter": "python",
   "pygments_lexer": "ipython3",
   "version": "3.12.5"
  },
  "papermill": {
   "default_parameters": {},
   "duration": 1.210727,
   "end_time": "2024-09-02T22:56:22.501773",
   "environment_variables": {},
   "exception": null,
   "input_path": "test.ipynb",
   "output_path": "test_output.ipynb",
   "parameters": {},
   "start_time": "2024-09-02T22:56:21.291046",
   "version": "2.6.0"
  }
 },
 "nbformat": 4,
 "nbformat_minor": 5
}